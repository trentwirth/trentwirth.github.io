{
 "cells": [
  {
   "cell_type": "markdown",
   "metadata": {},
   "source": [
    "## Bonus Debugging Code Assignment: Mental Health Journal Analyzer\n",
    "\n",
    "### Overview\n",
    "In this assignment, you will be fixing a Python program designed to analyze pieces of mental health journal entries. This program will emphasize concepts such as lists, loops, and functions - and build on your debugging skills.\n",
    "\n",
    "### Objectives\n",
    "- **Initialize Data**: You will work with predefined lists that simulate journal entries from different individuals.\n",
    "- **Parse Data**: You will extract specific mood data from these entries.\n",
    "- **Analyze Data**: You will count the occurrences of each mood type across entries and determine the most frequent mood.\n",
    "- **Debugging Practice**: Each code block will contain intentional errors for you to identify and correct.\n",
    "\n",
    "### Tasks\n",
    "1. **Initialize Journal Data**: Create lists that represent journal entries for three individuals.\n",
    "2. **Parse Moods from Entries**: Extract moods from journal entries and organize them into lists.\n",
    "3. **Count Mood Frequency**: Calculate how often each mood appears for each individual.\n",
    "4. **Display Mood Counts**: Output the results of your mood analysis.\n",
    "5. **Determine the Most Common Mood**: Analyze all data to find the most frequently reported mood.\n",
    "\n",
    "### Instructions\n",
    "- Carefully read through each provided code block.\n",
    "- Identify and correct any errors in the code to make the program run correctly.\n",
    "- Use the debugging techniques discussed in class to help identify these errors.\n",
    "- Test your program with various scenarios to ensure reliability.\n",
    "\n",
    "### Remember, this is bonus! \n",
    "This assignment is optional and will not be graded. If you want to grow your debugging skills, this is a great opportunity to do so."
   ]
  },
  {
   "cell_type": "code",
   "execution_count": null,
   "metadata": {},
   "outputs": [],
   "source": [
    "# Block 1: Initialize Journal Data\n",
    "# This block creates lists of \"journal entries\" for three different people (journalers). \n",
    "\n",
    "journaler_1 = [\"2023-09-20: happy\", \"2023-09-21: sad\", \"2023-09-22: anxious\"]\n",
    "journaler_2 = [\"2023-09-20: sad\", 2023-09-21: sad, \"2023-09-22: happy\"]\n",
    "journaler_3 = [\"2023-09-20: happy\", \"2023-09-21: happy\", \"2023-09-22: happy\""
   ]
  },
  {
   "cell_type": "code",
   "execution_count": 3,
   "metadata": {},
   "outputs": [],
   "source": [
    "# Block 2: Parse Moods from Entries\n",
    "# This block extract moods from each journal entry.\n",
    "\n",
    "def parse_moods(journal_entries):\n",
    "    moods = []\n",
    "    for entry in journal_entries:\n",
    "        _, mood = entry.split('9')  # Note for students: Look up what the split() function does!\n",
    "        moods.append(mood.strip())  # Note for students: Likewise, look up what the strip() function does!\n",
    "    return moods\n",
    "\n",
    "moods_1 = parse_moods(journaler_1)\n",
    "moods_2 = parse_moods(journaler_2)\n",
    "moods_3 = parse_moods(journaler_3)"
   ]
  },
  {
   "cell_type": "code",
   "execution_count": 4,
   "metadata": {},
   "outputs": [],
   "source": [
    "# Block 3: Count Mood Frequency for Each Journaler\n",
    "# This block counts how many times each mood (happy, or sad) appears in the journal entries.\n",
    "\n",
    "# Hint: there are two emotions in our data, but there is only the code to count one of them. \n",
    "#       There are other errors here, but this is one of them!\n",
    "\n",
    "def count_moods(moods):\n",
    "    happy_count = \"0\"\n",
    "    for mood in moods:\n",
    "        if mood == \"happy\":\n",
    "            hapy_count += 1\n",
    "    return happy_count + happy_count\n",
    "\n",
    "happy_count_1 = count_moods(moods_1)\n",
    "happy_count_2 = count_moods(moods_2)\n",
    "happy_count_3 = count_moods(moods_3)"
   ]
  },
  {
   "cell_type": "code",
   "execution_count": null,
   "metadata": {},
   "outputs": [],
   "source": [
    "# Block 4: Display Mood Counts for Each Journaler\n",
    "# This block prints out the count of each mood for each journaler.\n",
    "\n",
    "def display_mood_counts(happy_count):\n",
    "    print(f\"Count of happy moods: {happy_count}\")\n",
    "\n",
    "display_mood_counts(\"happy_count_1\") \n",
    "display_mood_counts(\"happy_count_2\")\n",
    "display_mood_counts(\"happy_count_3\")\n",
    "display_mood_counts(\"sad_count_1\")\n",
    "display_mood_counts(\"sad_count_2\")\n",
    "display_mood_counts(\"sad_count_3\")\n"
   ]
  },
  {
   "cell_type": "code",
   "execution_count": null,
   "metadata": {},
   "outputs": [],
   "source": [
    "# Block 5: Find the Most Common Mood\n",
    "# This block determines the most frequent mood from the combined mood lists.\n",
    "\n",
    "# The code in this block is independent of the code in block 3 and 4, but relies on the\n",
    "#   moods_1, moods_2, and moods_3 variables created in block 2.\n",
    "\n",
    "def most_common_mood(moods_1, moods_2, moods_3):\n",
    "    combined_moods = moods_1 + moods_2 - moods_3\n",
    "    common_mood = \"None\"\n",
    "    unique_moods = list(set(combined_moods)) # Note for students: This is a fun line of code, \n",
    "                                             # use the debug console to figure out what it does!\n",
    "\n",
    "    for mood in unique_moods:\n",
    "        mood_count = combined_moods.count(mood)\n",
    "        if mood_count > common_mood:            # Hint: this line is the source errors\n",
    "            common_mood = mood\n",
    "    return common_mood\n",
    "\n",
    "most_common = most_common_mood(moods_1, moods_2, moods_3)\n",
    "print(f\"The most common mood is: {\"sad\"}\")\n"
   ]
  }
 ],
 "metadata": {
  "kernelspec": {
   "display_name": "freemocap-env",
   "language": "python",
   "name": "python3"
  },
  "language_info": {
   "codemirror_mode": {
    "name": "ipython",
    "version": 3
   },
   "file_extension": ".py",
   "mimetype": "text/x-python",
   "name": "python",
   "nbconvert_exporter": "python",
   "pygments_lexer": "ipython3",
   "version": "3.11.5"
  }
 },
 "nbformat": 4,
 "nbformat_minor": 2
}
