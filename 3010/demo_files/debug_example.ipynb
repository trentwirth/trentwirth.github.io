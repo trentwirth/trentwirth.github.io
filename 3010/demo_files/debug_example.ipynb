{
 "cells": [
  {
   "cell_type": "code",
   "execution_count": 17,
   "metadata": {},
   "outputs": [
    {
     "name": "stdout",
     "output_type": "stream",
     "text": [
      "Name: Fido, Type: dog, Age: 22, Friendly: yes\n",
      "Name: tabs, Type: cat, Age: 1\n",
      "Name: I0p, Type: alien, Age: 1002\n"
     ]
    }
   ],
   "source": [
    "# Define the Pet class\n",
    "class Pet:\n",
    "    def __init__(self, name, pet_type, age, friendly=None):\n",
    "        self.name = name\n",
    "        self.pet_type = pet_type\n",
    "        self.age = age\n",
    "        self.friendly = friendly  # Only relevant for dogs\n",
    "\n",
    "    def display_info(self):\n",
    "        info = f\"Name: {self.name}, Type: {self.pet_type}, Age: {self.age}\"\n",
    "        if self.pet_type == \"dog\":\n",
    "            info += f\", Friendly: {self.friendly}\"\n",
    "        print(info)\n",
    "\n",
    "# Create an empty list to store pets\n",
    "pets_list = []\n",
    "\n",
    "# Loop to collect information for each pet\n",
    "while True: # this will loop until the user enters 'stop'\n",
    "    name = input(\"Enter the pet's name (or 'stop' to finish): \")\n",
    "    if name == 'stop':\n",
    "        break\n",
    "    pet_type = input(\"Enter the type of pet (e.g., dog, cat): \")\n",
    "    age = input(\"Enter the pet's age: \")\n",
    "\n",
    "    # If the pet is a dog, ask if it is friendly\n",
    "    friendly = None\n",
    "    if pet_type == \"dog\":\n",
    "        friendly = input(\"Is the dog friendly? (yes/no): \")\n",
    "\n",
    "    # Create a new Pet object\n",
    "    pet = Pet(name, pet_type, age, friendly)\n",
    "    pets_list.append(pet)\n",
    "\n",
    "# Display information about each pet\n",
    "for pet in pets_list:\n",
    "    pet.display_info()\n"
   ]
  }
 ],
 "metadata": {
  "kernelspec": {
   "display_name": "freemocap-env",
   "language": "python",
   "name": "python3"
  },
  "language_info": {
   "codemirror_mode": {
    "name": "ipython",
    "version": 3
   },
   "file_extension": ".py",
   "mimetype": "text/x-python",
   "name": "python",
   "nbconvert_exporter": "python",
   "pygments_lexer": "ipython3",
   "version": "3.11.5"
  }
 },
 "nbformat": 4,
 "nbformat_minor": 2
}
