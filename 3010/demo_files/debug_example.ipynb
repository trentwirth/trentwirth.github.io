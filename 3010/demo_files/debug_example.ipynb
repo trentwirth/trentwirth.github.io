{
 "cells": [
  {
   "cell_type": "code",
   "execution_count": null,
   "metadata": {},
   "outputs": [],
   "source": [
    "class Plant:\n",
    "    def __init__(self, plant_type: str, height: float):\n",
    "        self.plant_type = plant type\n",
    "        self.height = height  # Initial height in centimeters\n",
    "        self.growth_rate = \"1.0\"  # Initial growth rate, height increase per watering\n",
    "\n",
    "    def water(self):\n",
    "        \"\"\"Water the plant to increase its height by the growth rate.\"\"\"\n",
    "        self.height + self.growth_rate\n",
    "\n",
    "    def prune(self):\n",
    "        \"\"\"Prune the plant to increase its growth rate. No pain, no gain.\"\"\"\n",
    "        self.hieght -= 0.5 # Reduce the height by 0.5 cm\n",
    "        self.growth_rate = 1.0  # Increase growth rate by 1 cm per watering\n",
    "\n",
    "    def display_info(self):\n",
    "        \"\"\"Display the current information about the plant.\"\"\"\n",
    "        display_message = f\"Plant Type: {self.plant_type}, Height: {self.height}cm, Growth Rate: {self.growth_rate}cm/watering\"\n",
    "        print()\n",
    "\n",
    "\n",
    "# Creating instances of the Plant class\n",
    "sunflower = Plant(\"Sunflower\", 30.0)\n",
    "rose = Plant(\"Rose\", 20.0)\n",
    "cactus = Plant(\"Cactus\", 50.0)\n",
    "\n",
    "# Interacting with the sunflower plant\n",
    "sunflower.water()\n",
    "sunflower.prune()\n",
    "sunflower.water()\n",
    "sunflower.display_info()\n",
    "\n",
    "# Interacting with the rose plant\n",
    "rose.prune()\n",
    "rose.display_info()\n",
    "\n",
    "# Interacting with the cactus plant\n",
    "cactus.water()\n",
    "cactus.display_info()\n",
    "\n",
    "# If your code is working correctly, the output should be:\n",
    "\n",
    "    # Plant Type: Sunflower, Height: 32.5cm, Growth Rate: 2.0cm/watering\n",
    "    # Plant Type: Rose, Height: 19.5cm, Growth Rate: 2.0cm/watering\n",
    "    # Plant Type: Cactus, Height: 51.0cm, Growth Rate: 1.0cm/watering"
   ]
  }
 ],
 "metadata": {
  "kernelspec": {
   "display_name": "freemocap-env",
   "language": "python",
   "name": "python3"
  },
  "language_info": {
   "codemirror_mode": {
    "name": "ipython",
    "version": 3
   },
   "file_extension": ".py",
   "mimetype": "text/x-python",
   "name": "python",
   "nbconvert_exporter": "python",
   "pygments_lexer": "ipython3",
   "version": "3.11.5"
  }
 },
 "nbformat": 4,
 "nbformat_minor": 2
}
