{
 "cells": [
  {
   "cell_type": "code",
   "execution_count": 13,
   "metadata": {},
   "outputs": [],
   "source": [
    "import ipywidgets as widgets\n",
    "from ipywidgets import interact\n",
    "import matplotlib.pyplot as plt\n",
    "import numpy as np\n"
   ]
  },
  {
   "cell_type": "code",
   "execution_count": 22,
   "metadata": {},
   "outputs": [
    {
     "data": {
      "application/vnd.jupyter.widget-view+json": {
       "model_id": "31ebb81defdb44be999f5633df2253b8",
       "version_major": 2,
       "version_minor": 0
      },
      "text/plain": [
       "interactive(children=(Dropdown(description='Distribution', options=('Normal', 'Uniform'), value='Normal'), Int…"
      ]
     },
     "metadata": {},
     "output_type": "display_data"
    },
    {
     "data": {
      "text/plain": [
       "<function __main__.plot_histogram(dist_type, bins)>"
      ]
     },
     "execution_count": 22,
     "metadata": {},
     "output_type": "execute_result"
    }
   ],
   "source": [
    "# Sample datasets\n",
    "normal_data = np.random.normal(0, 1, 1000)\n",
    "uniform_data = np.random.uniform(-3, 3, 1000)\n",
    "\n",
    "# Define histogram plot function\n",
    "def plot_histogram(dist_type, bins):\n",
    "    data = normal_data if dist_type == \"Normal\" else uniform_data\n",
    "    plt.hist(data, bins=bins, color=\"green\", edgecolor=\"black\")\n",
    "    plt.xlabel(\"Value\")\n",
    "    plt.ylabel(\"Frequency\")\n",
    "    plt.title(f\"{dist_type} Distribution with {bins} Bins\")\n",
    "    plt.show()\n",
    "\n",
    "# Create interactive widgets\n",
    "interact(plot_histogram, \n",
    "         dist_type=widgets.Dropdown(options=[\"Normal\", \"Uniform\"], value=\"Normal\", description=\"Distribution\"),\n",
    "         bins=widgets.IntSlider(min=5, max=50, step=5, value=20))\n"
   ]
  }
 ],
 "metadata": {
  "kernelspec": {
   "display_name": "freemocap-env",
   "language": "python",
   "name": "python3"
  },
  "language_info": {
   "codemirror_mode": {
    "name": "ipython",
    "version": 3
   },
   "file_extension": ".py",
   "mimetype": "text/x-python",
   "name": "python",
   "nbconvert_exporter": "python",
   "pygments_lexer": "ipython3",
   "version": "3.11.5"
  }
 },
 "nbformat": 4,
 "nbformat_minor": 2
}
