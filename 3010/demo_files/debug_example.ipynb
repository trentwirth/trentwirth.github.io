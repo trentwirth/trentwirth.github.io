{
 "cells": [
  {
   "cell_type": "code",
   "execution_count": 16,
   "metadata": {},
   "outputs": [
    {
     "name": "stdout",
     "output_type": "stream",
     "text": [
      "{'Alice': (29, 'Reading'), 'Bob': (34, 'Cycling'), 'Charlie': (27, 'Reading'), 'David': (31, 'Swimming')}\n"
     ]
    }
   ],
   "source": [
    "class Participant:\n",
    "    def __init__(self, name, age, hobby):\n",
    "        self.name = name\n",
    "        self.age = age\n",
    "        self.hobby = hobby\n",
    "\n",
    "# List to store participants\n",
    "participants = [\n",
    "    Participant(\"Alice\", 29, \"Reading\"),\n",
    "    Participant(\"Bob\", 34, \"Cycling\"),\n",
    "    Participant(\"Charlie\", 27, \"Reading\"),\n",
    "    Participant(\"David\", 31, \"Swimming\")\n",
    "]\n",
    "\n",
    "# Dictionary to map participant names to their age and hobby\n",
    "participant_dict = {p.name: (p.age, p.hobby) for p in participants}\n",
    "print(participant_dict)\n"
   ]
  },
  {
   "cell_type": "code",
   "execution_count": 17,
   "metadata": {},
   "outputs": [
    {
     "name": "stdout",
     "output_type": "stream",
     "text": [
      "{'Swimming', 'Reading', 'Cycling'}\n"
     ]
    }
   ],
   "source": [
    "# Set to store unique hobbies\n",
    "unique_hobbies = {p.hobby for p in participants}\n",
    "print(unique_hobbies)\n"
   ]
  },
  {
   "cell_type": "code",
   "execution_count": null,
   "metadata": {},
   "outputs": [],
   "source": []
  }
 ],
 "metadata": {
  "kernelspec": {
   "display_name": "freemocap-env",
   "language": "python",
   "name": "python3"
  },
  "language_info": {
   "codemirror_mode": {
    "name": "ipython",
    "version": 3
   },
   "file_extension": ".py",
   "mimetype": "text/x-python",
   "name": "python",
   "nbconvert_exporter": "python",
   "pygments_lexer": "ipython3",
   "version": "3.11.5"
  }
 },
 "nbformat": 4,
 "nbformat_minor": 2
}
